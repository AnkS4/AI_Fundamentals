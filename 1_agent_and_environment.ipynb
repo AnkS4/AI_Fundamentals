{
 "cells": [
  {
   "cell_type": "markdown",
   "metadata": {},
   "source": [
    "### Simple Moving Agent"
   ]
  },
  {
   "cell_type": "code",
   "execution_count": 1,
   "metadata": {},
   "outputs": [],
   "source": [
    "class agent:\n",
    "    def __init__(self):\n",
    "        self.current_loc = 0\n",
    "    def move(self):\n",
    "        self.current_loc += 1\n",
    "    def get_loc(self):\n",
    "        print(f\"Current location : {self.current_loc}\")"
   ]
  },
  {
   "cell_type": "code",
   "execution_count": 2,
   "metadata": {},
   "outputs": [
    {
     "name": "stdout",
     "output_type": "stream",
     "text": [
      "Current location : 0\n"
     ]
    }
   ],
   "source": [
    "a = agent()\n",
    "a.get_loc()"
   ]
  },
  {
   "cell_type": "code",
   "execution_count": 3,
   "metadata": {},
   "outputs": [
    {
     "name": "stdout",
     "output_type": "stream",
     "text": [
      "Current location : 2\n"
     ]
    }
   ],
   "source": [
    "a.move()\n",
    "a.move()\n",
    "a.get_loc()"
   ]
  },
  {
   "cell_type": "markdown",
   "metadata": {},
   "source": [
    "### Agent and Environment"
   ]
  },
  {
   "cell_type": "code",
   "execution_count": 4,
   "metadata": {},
   "outputs": [],
   "source": [
    "class env:\n",
    "    def __init__(self):\n",
    "        self.end = 50\n",
    "        self.type = {}\n",
    "        for i in range(self.end):\n",
    "            if i < (self.end/5) or i > (self.end/2):\n",
    "                self.type[i] = \"Water\"\n",
    "            else:\n",
    "                self.type[i] = \"Land\"\n",
    "    def get_type(self, loc):\n",
    "        return self.type[loc]\n",
    "    \n",
    "class agent:\n",
    "    def __init__(self):\n",
    "        self.current_loc = 0\n",
    "    def move(self, e):\n",
    "        if self.current_loc >= e.end:\n",
    "            print(\"Environment ends here!\")\n",
    "            return False\n",
    "        else:\n",
    "            print(f\"Location: {self.current_loc}, Type:{e.get_type(self.current_loc)}\")\n",
    "            if e.get_type(self.current_loc) == \"Water\":\n",
    "                print(\"≈ ≈ ≈ SWIMMING ≈ ≈ ≈\")\n",
    "            elif e.get_type(self.current_loc) == \"Land\":\n",
    "                print(\"- - - WALKING - - -\")\n",
    "            self.current_loc += 1\n",
    "            return True\n",
    "    def get_loc(self):\n",
    "        return self.current_loc"
   ]
  },
  {
   "cell_type": "code",
   "execution_count": 5,
   "metadata": {},
   "outputs": [
    {
     "name": "stdout",
     "output_type": "stream",
     "text": [
      "Location: 0, Type:Water\n",
      "≈ ≈ ≈ SWIMMING ≈ ≈ ≈\n",
      "Location: 1, Type:Water\n",
      "≈ ≈ ≈ SWIMMING ≈ ≈ ≈\n",
      "Location: 2, Type:Water\n",
      "≈ ≈ ≈ SWIMMING ≈ ≈ ≈\n",
      "Location: 3, Type:Water\n",
      "≈ ≈ ≈ SWIMMING ≈ ≈ ≈\n",
      "Location: 4, Type:Water\n",
      "≈ ≈ ≈ SWIMMING ≈ ≈ ≈\n",
      "Location: 5, Type:Water\n",
      "≈ ≈ ≈ SWIMMING ≈ ≈ ≈\n",
      "Location: 6, Type:Water\n",
      "≈ ≈ ≈ SWIMMING ≈ ≈ ≈\n",
      "Location: 7, Type:Water\n",
      "≈ ≈ ≈ SWIMMING ≈ ≈ ≈\n",
      "Location: 8, Type:Water\n",
      "≈ ≈ ≈ SWIMMING ≈ ≈ ≈\n",
      "Location: 9, Type:Water\n",
      "≈ ≈ ≈ SWIMMING ≈ ≈ ≈\n",
      "Location: 10, Type:Land\n",
      "- - - WALKING - - -\n",
      "Location: 11, Type:Land\n",
      "- - - WALKING - - -\n",
      "Location: 12, Type:Land\n",
      "- - - WALKING - - -\n",
      "Location: 13, Type:Land\n",
      "- - - WALKING - - -\n",
      "Location: 14, Type:Land\n",
      "- - - WALKING - - -\n",
      "Location: 15, Type:Land\n",
      "- - - WALKING - - -\n",
      "Location: 16, Type:Land\n",
      "- - - WALKING - - -\n",
      "Location: 17, Type:Land\n",
      "- - - WALKING - - -\n",
      "Location: 18, Type:Land\n",
      "- - - WALKING - - -\n",
      "Location: 19, Type:Land\n",
      "- - - WALKING - - -\n",
      "Location: 20, Type:Land\n",
      "- - - WALKING - - -\n",
      "Location: 21, Type:Land\n",
      "- - - WALKING - - -\n",
      "Location: 22, Type:Land\n",
      "- - - WALKING - - -\n",
      "Location: 23, Type:Land\n",
      "- - - WALKING - - -\n",
      "Location: 24, Type:Land\n",
      "- - - WALKING - - -\n",
      "Location: 25, Type:Land\n",
      "- - - WALKING - - -\n",
      "Location: 26, Type:Water\n",
      "≈ ≈ ≈ SWIMMING ≈ ≈ ≈\n",
      "Location: 27, Type:Water\n",
      "≈ ≈ ≈ SWIMMING ≈ ≈ ≈\n",
      "Location: 28, Type:Water\n",
      "≈ ≈ ≈ SWIMMING ≈ ≈ ≈\n",
      "Location: 29, Type:Water\n",
      "≈ ≈ ≈ SWIMMING ≈ ≈ ≈\n",
      "Location: 30, Type:Water\n",
      "≈ ≈ ≈ SWIMMING ≈ ≈ ≈\n",
      "Location: 31, Type:Water\n",
      "≈ ≈ ≈ SWIMMING ≈ ≈ ≈\n",
      "Location: 32, Type:Water\n",
      "≈ ≈ ≈ SWIMMING ≈ ≈ ≈\n",
      "Location: 33, Type:Water\n",
      "≈ ≈ ≈ SWIMMING ≈ ≈ ≈\n",
      "Location: 34, Type:Water\n",
      "≈ ≈ ≈ SWIMMING ≈ ≈ ≈\n",
      "Location: 35, Type:Water\n",
      "≈ ≈ ≈ SWIMMING ≈ ≈ ≈\n",
      "Location: 36, Type:Water\n",
      "≈ ≈ ≈ SWIMMING ≈ ≈ ≈\n",
      "Location: 37, Type:Water\n",
      "≈ ≈ ≈ SWIMMING ≈ ≈ ≈\n",
      "Location: 38, Type:Water\n",
      "≈ ≈ ≈ SWIMMING ≈ ≈ ≈\n",
      "Location: 39, Type:Water\n",
      "≈ ≈ ≈ SWIMMING ≈ ≈ ≈\n",
      "Location: 40, Type:Water\n",
      "≈ ≈ ≈ SWIMMING ≈ ≈ ≈\n",
      "Location: 41, Type:Water\n",
      "≈ ≈ ≈ SWIMMING ≈ ≈ ≈\n",
      "Location: 42, Type:Water\n",
      "≈ ≈ ≈ SWIMMING ≈ ≈ ≈\n",
      "Location: 43, Type:Water\n",
      "≈ ≈ ≈ SWIMMING ≈ ≈ ≈\n",
      "Location: 44, Type:Water\n",
      "≈ ≈ ≈ SWIMMING ≈ ≈ ≈\n",
      "Location: 45, Type:Water\n",
      "≈ ≈ ≈ SWIMMING ≈ ≈ ≈\n",
      "Location: 46, Type:Water\n",
      "≈ ≈ ≈ SWIMMING ≈ ≈ ≈\n",
      "Location: 47, Type:Water\n",
      "≈ ≈ ≈ SWIMMING ≈ ≈ ≈\n",
      "Location: 48, Type:Water\n",
      "≈ ≈ ≈ SWIMMING ≈ ≈ ≈\n",
      "Location: 49, Type:Water\n",
      "≈ ≈ ≈ SWIMMING ≈ ≈ ≈\n",
      "Environment ends here!\n"
     ]
    }
   ],
   "source": [
    "a = agent()\n",
    "e = env()\n",
    "\n",
    "no_end = True\n",
    "while(no_end):\n",
    "    no_end = a.move(e)"
   ]
  },
  {
   "cell_type": "markdown",
   "metadata": {},
   "source": [
    "### Random Environment"
   ]
  },
  {
   "cell_type": "code",
   "execution_count": 6,
   "metadata": {},
   "outputs": [],
   "source": [
    "import random\n",
    "\n",
    "class r_env:\n",
    "    def __init__(self):\n",
    "        self.end = random.randint(20,50)\n",
    "        self.type = {}\n",
    "        for i in range(self.end):\n",
    "            self.type[i] = random.choice([\"Water\", \"Land\"])\n",
    "    def get_type(self, loc):\n",
    "        return self.type[loc]\n",
    "    def get_end(self):\n",
    "        return self.end"
   ]
  },
  {
   "cell_type": "code",
   "execution_count": 7,
   "metadata": {},
   "outputs": [
    {
     "name": "stdout",
     "output_type": "stream",
     "text": [
      "Environment limit here: 40\n",
      "Location: 0, Type:Land\n",
      "- - - WALKING - - -\n",
      "Location: 1, Type:Land\n",
      "- - - WALKING - - -\n",
      "Location: 2, Type:Water\n",
      "≈ ≈ ≈ SWIMMING ≈ ≈ ≈\n",
      "Location: 3, Type:Land\n",
      "- - - WALKING - - -\n",
      "Location: 4, Type:Water\n",
      "≈ ≈ ≈ SWIMMING ≈ ≈ ≈\n",
      "Location: 5, Type:Land\n",
      "- - - WALKING - - -\n",
      "Location: 6, Type:Water\n",
      "≈ ≈ ≈ SWIMMING ≈ ≈ ≈\n",
      "Location: 7, Type:Land\n",
      "- - - WALKING - - -\n",
      "Location: 8, Type:Land\n",
      "- - - WALKING - - -\n",
      "Location: 9, Type:Land\n",
      "- - - WALKING - - -\n",
      "Location: 10, Type:Land\n",
      "- - - WALKING - - -\n",
      "Location: 11, Type:Water\n",
      "≈ ≈ ≈ SWIMMING ≈ ≈ ≈\n",
      "Location: 12, Type:Water\n",
      "≈ ≈ ≈ SWIMMING ≈ ≈ ≈\n",
      "Location: 13, Type:Land\n",
      "- - - WALKING - - -\n",
      "Location: 14, Type:Land\n",
      "- - - WALKING - - -\n",
      "Location: 15, Type:Land\n",
      "- - - WALKING - - -\n",
      "Location: 16, Type:Land\n",
      "- - - WALKING - - -\n",
      "Location: 17, Type:Land\n",
      "- - - WALKING - - -\n",
      "Location: 18, Type:Water\n",
      "≈ ≈ ≈ SWIMMING ≈ ≈ ≈\n",
      "Location: 19, Type:Land\n",
      "- - - WALKING - - -\n",
      "Location: 20, Type:Water\n",
      "≈ ≈ ≈ SWIMMING ≈ ≈ ≈\n",
      "Location: 21, Type:Land\n",
      "- - - WALKING - - -\n",
      "Location: 22, Type:Water\n",
      "≈ ≈ ≈ SWIMMING ≈ ≈ ≈\n",
      "Location: 23, Type:Land\n",
      "- - - WALKING - - -\n",
      "Location: 24, Type:Land\n",
      "- - - WALKING - - -\n",
      "Location: 25, Type:Land\n",
      "- - - WALKING - - -\n",
      "Location: 26, Type:Water\n",
      "≈ ≈ ≈ SWIMMING ≈ ≈ ≈\n",
      "Location: 27, Type:Land\n",
      "- - - WALKING - - -\n",
      "Location: 28, Type:Water\n",
      "≈ ≈ ≈ SWIMMING ≈ ≈ ≈\n",
      "Location: 29, Type:Water\n",
      "≈ ≈ ≈ SWIMMING ≈ ≈ ≈\n",
      "Location: 30, Type:Land\n",
      "- - - WALKING - - -\n",
      "Location: 31, Type:Water\n",
      "≈ ≈ ≈ SWIMMING ≈ ≈ ≈\n",
      "Location: 32, Type:Water\n",
      "≈ ≈ ≈ SWIMMING ≈ ≈ ≈\n",
      "Location: 33, Type:Water\n",
      "≈ ≈ ≈ SWIMMING ≈ ≈ ≈\n",
      "Location: 34, Type:Land\n",
      "- - - WALKING - - -\n",
      "Location: 35, Type:Land\n",
      "- - - WALKING - - -\n",
      "Location: 36, Type:Water\n",
      "≈ ≈ ≈ SWIMMING ≈ ≈ ≈\n",
      "Location: 37, Type:Water\n",
      "≈ ≈ ≈ SWIMMING ≈ ≈ ≈\n",
      "Location: 38, Type:Land\n",
      "- - - WALKING - - -\n",
      "Location: 39, Type:Water\n",
      "≈ ≈ ≈ SWIMMING ≈ ≈ ≈\n",
      "Environment ends here!\n"
     ]
    }
   ],
   "source": [
    "a = agent()\n",
    "r_e = r_env()\n",
    "\n",
    "print(f\"Environment limit here: {r_e.get_end()}\")\n",
    "\n",
    "no_end = True\n",
    "while(no_end):\n",
    "    no_end = a.move(r_e)"
   ]
  }
 ],
 "metadata": {
  "kernelspec": {
   "display_name": "Python 3",
   "language": "python",
   "name": "python3"
  },
  "language_info": {
   "codemirror_mode": {
    "name": "ipython",
    "version": 3
   },
   "file_extension": ".py",
   "mimetype": "text/x-python",
   "name": "python",
   "nbconvert_exporter": "python",
   "pygments_lexer": "ipython3",
   "version": "3.8.5"
  }
 },
 "nbformat": 4,
 "nbformat_minor": 4
}
